{
 "cells": [
  {
   "cell_type": "markdown",
   "id": "bf2bf216",
   "metadata": {},
   "source": [
    "# Importing Libraries"
   ]
  },
  {
   "cell_type": "code",
   "execution_count": 1,
   "id": "7136f034",
   "metadata": {},
   "outputs": [],
   "source": [
    "import tensorflow as tf\n",
    "import cv2\n",
    "import numpy as np\n",
    "import matplotlib.pyplot as plt\n",
    "from tensorflow.keras.models import load_model\n",
    "from tensorflow.keras.models import Sequential\n",
    "from tensorflow.keras.layers import Dense, Dropout"
   ]
  },
  {
   "cell_type": "markdown",
   "id": "22f79f55",
   "metadata": {},
   "source": [
    "# Loading Data"
   ]
  },
  {
   "cell_type": "code",
   "execution_count": 4,
   "id": "63512386",
   "metadata": {},
   "outputs": [],
   "source": [
    "dataset = tf.keras.datasets.mnist\n",
    "\n",
    "#Train-Test Split\n",
    "(X_train, y_train), (X_test, y_test) = dataset.load_data()\n",
    "\n",
    "#Normalization\n",
    "X_train= X_train/255.0\n",
    "X_test= X_test/255.0\n",
    "\n",
    "X_train = X_train.reshape(X_train.shape[0], -1)\n",
    "X_test = X_test.reshape(X_test.shape[0], -1)"
   ]
  },
  {
   "cell_type": "markdown",
   "id": "6f15d59f",
   "metadata": {},
   "source": [
    "# ANN"
   ]
  },
  {
   "cell_type": "code",
   "execution_count": 5,
   "id": "7cec7f0a",
   "metadata": {},
   "outputs": [
    {
     "name": "stdout",
     "output_type": "stream",
     "text": [
      "Epoch 1/3\n",
      "4500/4500 [==============================] - 6s 1ms/step - loss: 0.2852 - acc: 0.9132 - val_loss: 0.1021 - val_acc: 0.9678\n",
      "Epoch 2/3\n",
      "4500/4500 [==============================] - 5s 1ms/step - loss: 0.1530 - acc: 0.9541 - val_loss: 0.0820 - val_acc: 0.9748\n",
      "Epoch 3/3\n",
      "4500/4500 [==============================] - 6s 1ms/step - loss: 0.1209 - acc: 0.9621 - val_loss: 0.0888 - val_acc: 0.9758\n"
     ]
    },
    {
     "data": {
      "text/plain": [
       "<keras.src.callbacks.History at 0x2d3bd2657f0>"
      ]
     },
     "execution_count": 5,
     "metadata": {},
     "output_type": "execute_result"
    }
   ],
   "source": [
    "model = Sequential()\n",
    "model.add(Dense(128, activation='relu'))\n",
    "model.add(Dropout(0.2))\n",
    "\n",
    "model.add(Dense(128, activation='relu'))\n",
    "model.add(Dropout(0.2))\n",
    "\n",
    "\n",
    "model.add(Dense(10, activation='softmax'))\n",
    "\n",
    "model.compile('adam', 'sparse_categorical_crossentropy', metrics=['acc'])\n",
    "\n",
    "model.fit(X_train, y_train, epochs=3, batch_size=12, validation_split=0.1)"
   ]
  },
  {
   "cell_type": "markdown",
   "id": "1a2baada",
   "metadata": {},
   "source": [
    "# Prediction"
   ]
  },
  {
   "cell_type": "code",
   "execution_count": 6,
   "id": "ad3aef7c",
   "metadata": {},
   "outputs": [
    {
     "name": "stdout",
     "output_type": "stream",
     "text": [
      "313/313 [==============================] - 0s 749us/step\n"
     ]
    },
    {
     "name": "stderr",
     "output_type": "stream",
     "text": [
      "D:\\Anaconda\\lib\\site-packages\\keras\\src\\engine\\training.py:3000: UserWarning: You are saving your model as an HDF5 file via `model.save()`. This file format is considered legacy. We recommend using instead the native Keras format, e.g. `model.save('my_model.keras')`.\n",
      "  saving_api.save_model(\n"
     ]
    },
    {
     "data": {
      "image/png": "[encoded data removed]",
      "text/plain": [
       "<Figure size 640x480 with 1 Axes>"
      ]
     },
     "metadata": {},
     "output_type": "display_data"
    }
   ],
   "source": [
    "plt.imshow(X_test[1255].reshape(28,28), cmap='gray')\n",
    "plt.xlabel(y_test[1255])\n",
    "plt.ylabel(np.argmax(model.predict(X_test)[1255]))\n",
    "\n",
    "\n",
    "model.save('digit_trained.h5')"
   ]
  },
  {
   "cell_type": "markdown",
   "id": "1642e12f",
   "metadata": {},
   "source": [
    "# Open CV for Capturing and Predicting through Camera"
   ]
  },
  {
   "cell_type": "code",
   "execution_count": null,
   "id": "6de15db8",
   "metadata": {},
   "outputs": [],
   "source": [
    "'''\n",
    "##### cv2\n",
    "cap = cv2.VideoCapture(0)\n",
    "while True:\n",
    "    ret, img = cap.read()\n",
    "    #img = cv2.flip(img, 1)\n",
    "    img = img[200:400, 200:400]\n",
    "    gray = cv2.cvtColor(img, cv2.COLOR_BGR2GRAY)\n",
    "    _, gray = cv2.threshold(gray, 127, 255, cv2.THRESH_BINARY_INV)\n",
    "    cv2.imshow(\"gray_wind\", gray)\n",
    "    gray = cv2.resize(gray, (28, 28))\n",
    "    #cv2.imshow('resized')\n",
    "    gray = gray.reshape(1, 784)\n",
    "    result = np.argmax(model.predict(gray))\n",
    "    result = 'cnn : {}'.format(result)\n",
    "    cv2.putText(img, org=(25,25), fontFace=cv2.FONT_HERSHEY_SIMPLEX, fontScale=1, text= result, color=(255,0,0), thickness=1)\n",
    "    cv2.imshow(\"image\", img)\n",
    "   \n",
    "    if cv2.waitKey(1) == 13:\n",
    "        break\n",
    "cap.release()\n",
    "cv2.destroyAllWindows()\n",
    "#plt.imshow(img)\n",
    "'''"
   ]
  },
  {
   "cell_type": "markdown",
   "id": "32059281",
   "metadata": {},
   "source": [
    "# Prediction via Paints"
   ]
  },
  {
   "cell_type": "code",
   "execution_count": null,
   "id": "aea997d3",
   "metadata": {},
   "outputs": [
    {
     "name": "stdout",
     "output_type": "stream",
     "text": [
      "1/1 [==============================] - 0s 14ms/step\n"
     ]
    }
   ],
   "source": [
    "run = False\n",
    "ix,iy = -1,-1\n",
    "follow = 25\n",
    "img = np.zeros((512,512,1))\n",
    "\n",
    "### func\n",
    "def draw(event, x, y, flag, params):\n",
    "    global run,ix,iy,img,follow\n",
    "    if event == cv2.EVENT_LBUTTONDOWN:\n",
    "        run = True\n",
    "        ix, iy = x, y\n",
    "    elif event == cv2.EVENT_MOUSEMOVE:\n",
    "        if run == True:\n",
    "            cv2.circle(img, (x,y), 20, (255,255,255), -1)\n",
    "\n",
    "    elif event == cv2.EVENT_LBUTTONUP:\n",
    "        run = False\n",
    "        cv2.circle(img, (x,y), 20, (255,255,255), -1)\n",
    "        gray = cv2.resize(img, (28, 28))\n",
    "        gray = gray.reshape(1, 784)\n",
    "        result = np.argmax(model.predict(gray))\n",
    "        result = 'cnn : {}'.format(result)\n",
    "        cv2.putText(img, org=(25,follow), fontFace=cv2.FONT_HERSHEY_SIMPLEX, fontScale=1, text= result, color=(255,0,0), thickness=1)\n",
    "        follow += 25\n",
    "    elif event == cv2.EVENT_RBUTTONDOWN:\n",
    "        img = np.zeros((512,512,1))\n",
    "        follow = 25\n",
    "\n",
    "### param\n",
    "cv2.namedWindow('image')\n",
    "cv2.setMouseCallback('image', draw)\n",
    "\n",
    "\n",
    "\n",
    "while True:    \n",
    "    cv2.imshow(\"image\", img)\n",
    "   \n",
    "    if cv2.waitKey(1) == 27:\n",
    "        break\n",
    "\n",
    "cv2.destroyAllWindows()"
   ]
  },
  {
   "cell_type": "code",
   "execution_count": null,
   "id": "fc462a86",
   "metadata": {},
   "outputs": [],
   "source": []
  }
 ],
 "metadata": {
  "kernelspec": {
   "display_name": "Python 3 (ipykernel)",
   "language": "python",
   "name": "python3"
  },
  "language_info": {
   "codemirror_mode": {
    "name": "ipython",
    "version": 3
   },
   "file_extension": ".py",
   "mimetype": "text/x-python",
   "name": "python",
   "nbconvert_exporter": "python",
   "pygments_lexer": "ipython3",
   "version": "3.9.16"
  }
 },
 "nbformat": 4,
 "nbformat_minor": 5
}
